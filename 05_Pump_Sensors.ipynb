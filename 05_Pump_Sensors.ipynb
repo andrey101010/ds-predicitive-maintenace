{
 "cells": [
  {
   "cell_type": "markdown",
   "metadata": {},
   "source": [
    "The proposal for this project is to use machine learning to detect patterns in the sensor data so that the stackeholer will be better to exploit the forecasting and act accordingly by maintaining the unterlying system. \n",
    "\n",
    "This notebook is keept in such a way as I went trough it. However, weak results are not interfering with final outcomes and predictions.\n",
    "\n",
    "We are going to use the following python libraries and therefore the upcoming cell is going to install it for us."
   ]
  },
  {
   "cell_type": "code",
   "execution_count": null,
   "metadata": {
    "scrolled": true
   },
   "outputs": [],
   "source": [
    "import numpy as np \n",
    "import pandas as pd\n",
    "import matplotlib.pyplot as plt\n",
    "import seaborn as sns\n",
    "from statsmodels.tsa.holtwinters import SimpleExpSmoothing\n",
    "\n",
    "from sklearn.preprocessing import LabelEncoder, MinMaxScaler\n",
    "from sklearn.linear_model import LinearRegression\n",
    "from sklearn.ensemble import RandomForestClassifier, RandomForestRegressor\n",
    "from sklearn.metrics import mean_squared_error\n",
    "\n",
    "from statsmodels.tsa.stattools import adfuller\n"
   ]
  },
  {
   "cell_type": "markdown",
   "metadata": {},
   "source": [
    "# Data Loading"
   ]
  },
  {
   "cell_type": "code",
   "execution_count": null,
   "metadata": {},
   "outputs": [],
   "source": [
    "# access kaggle datasets online\n",
    "!pip install kaggle\n",
    "!mkdir ~/.kaggle \n",
    "!cp kaggle.json ~/.kaggle\n",
    "!chmod 600 ~/.kaggle/kaggle.json\n",
    "!kaggle datasets download -d nphantawee/pump-sensor-data\n",
    "!unzip pump-sensor-data.zip"
   ]
  },
  {
   "cell_type": "code",
   "execution_count": null,
   "metadata": {},
   "outputs": [],
   "source": [
    "# np.genfromtxt('sensor.csv', delimiter=',', dtype=None)\n",
    "df = pd.read_csv('sensor.csv')"
   ]
  },
  {
   "cell_type": "markdown",
   "metadata": {},
   "source": [
    "# Exploratory Data Analysis"
   ]
  },
  {
   "cell_type": "code",
   "execution_count": null,
   "metadata": {},
   "outputs": [],
   "source": [
    "df.info()"
   ]
  },
  {
   "cell_type": "markdown",
   "metadata": {},
   "source": [
    "There are some missing values. Some columns will be dropped as seen in the upcoming column. \n",
    "Those columns with only a few missing values will be 'backfilled' with the pandas method in the later stage of this notebook."
   ]
  },
  {
   "cell_type": "code",
   "execution_count": null,
   "metadata": {},
   "outputs": [],
   "source": [
    "df.isnull().sum().plot(kind='bar', figsize=(12,1));\n",
    "plt.title('Number of Missing Values in a Column');"
   ]
  },
  {
   "cell_type": "markdown",
   "metadata": {},
   "source": [
    "In the next step visual inspectation of each sensor record is made. "
   ]
  },
  {
   "cell_type": "code",
   "execution_count": null,
   "metadata": {},
   "outputs": [],
   "source": [
    "# Transforming mashine status from strings to integers \n",
    "conditions = [(df['machine_status'] =='NORMAL'), (df['machine_status'] =='BROKEN'), (df['machine_status'] =='RECOVERING')]\n",
    "choices = [1, 0, 0.5]\n",
    "df['Operation'] = np.select(conditions, choices, default=0)"
   ]
  },
  {
   "attachments": {},
   "cell_type": "markdown",
   "metadata": {},
   "source": [
    "We can see group by some sensors in terms of their behavior and the absolute numbers they display. All sensors show stationary behavior, which means that their values are not changing from the initial value in time. Non-stationary behaviour we be that the values are rising / or falling in time."
   ]
  },
  {
   "cell_type": "code",
   "execution_count": null,
   "metadata": {},
   "outputs": [],
   "source": [
    "# Computationally expensive calculation! Therefore commented out\n",
    "# for i, s in enumerate(df.drop(['timestamp', 'machine_status', 'Operation'], axis = 1).backfill().T.to_numpy()):\n",
    "#    result = adfuller(s)\n",
    "#    print(f'Sensor {i}:', result[1])"
   ]
  },
  {
   "attachments": {},
   "cell_type": "markdown",
   "metadata": {},
   "source": [
    "Another visualisation for the dataset. The red dotted lines are showing the time point of machine failure."
   ]
  },
  {
   "cell_type": "code",
   "execution_count": null,
   "metadata": {},
   "outputs": [],
   "source": [
    "# General overview over all sensors throughout the measurement. \n",
    "# red dotted lines represent machine failure\n",
    "\n",
    "ymin = 0\n",
    "i = 0\n",
    "fig, axs = plt.subplots(9, 6, figsize = (14,20))\n",
    "fig.tight_layout()\n",
    "\n",
    "for x0 in list(range(0, 9, 1)):\n",
    "    #print('x0', x0)\n",
    "    for y0 in list(range(0, 6, 1)):\n",
    "        #print('x0 and y0', x0,  y0)\n",
    "        if i < 10:\n",
    "            sensor_number = 'sensor_0{}'.format(i)\n",
    "            ymax = df[sensor_number].max()\n",
    "        elif i > 51:\n",
    "            break\n",
    "        else:\n",
    "            sensor_number = 'sensor_{}'.format(i)\n",
    "        ymax = df[sensor_number].max()\n",
    "        axs[x0, y0].plot(df[sensor_number])\n",
    "        axs[x0, y0].set_title(sensor_number)\n",
    "        axs[x0, y0].vlines(x = df[df['machine_status'] == 'BROKEN'].index, ymin = ymin, ymax = ymax, color='red', linestyle='--')\n",
    "        i = i + 1"
   ]
  },
  {
   "cell_type": "code",
   "execution_count": null,
   "metadata": {},
   "outputs": [],
   "source": [
    "df.drop(['Unnamed: 0','sensor_00','sensor_15','sensor_50','sensor_51'], axis=1, inplace=True)"
   ]
  },
  {
   "cell_type": "code",
   "execution_count": null,
   "metadata": {},
   "outputs": [],
   "source": [
    "df.set_index('timestamp').plot(subplots =True, sharex = True, figsize = (20,50));"
   ]
  },
  {
   "cell_type": "code",
   "execution_count": null,
   "metadata": {},
   "outputs": [],
   "source": [
    "# Statistics of the machine. It is a highly imbalanced data set\n",
    "df.machine_status.value_counts()"
   ]
  },
  {
   "cell_type": "code",
   "execution_count": null,
   "metadata": {},
   "outputs": [],
   "source": [
    "# Status of the machine. 1 = operational, 0.5 maintenance and 0 = broken\n",
    "df.set_index('timestamp').Operation.plot(figsize=(13,1));\n",
    "plt.ylabel('Machine Status');"
   ]
  },
  {
   "attachments": {},
   "cell_type": "markdown",
   "metadata": {},
   "source": [
    "## Machnine Learning without a Time Shift"
   ]
  },
  {
   "cell_type": "code",
   "execution_count": null,
   "metadata": {},
   "outputs": [],
   "source": [
    "df.set_index('timestamp', inplace=True)\n",
    "df.index.freq = 'min' # df.index gets the frequency of the time series. It is needed for future steps."
   ]
  },
  {
   "cell_type": "code",
   "execution_count": null,
   "metadata": {},
   "outputs": [],
   "source": [
    "df = df.backfill() # somehow fillna('backfill') produced columns with objects.')\n",
    "df.dropna(inplace = True) # those rows which contain NaNs due to the shift-method are now removed"
   ]
  },
  {
   "cell_type": "code",
   "execution_count": null,
   "metadata": {},
   "outputs": [],
   "source": [
    "# train/test split time series\n",
    "train_df = df.loc[df.index < \"2018-06-09 10:40:00\"]\n",
    "test_df = df.loc[df.index >= \"2018-06-09 10:40:00\"]\n",
    "X_train = train_df.drop(['machine_status', 'Operation'], axis = 1)\n",
    "y_train = train_df.Operation\n",
    "X_test = test_df.drop(['machine_status', 'Operation'], axis = 1)\n",
    "y_test = test_df.Operation"
   ]
  },
  {
   "cell_type": "markdown",
   "metadata": {},
   "source": [
    "### Linear Regression"
   ]
  },
  {
   "cell_type": "code",
   "execution_count": null,
   "metadata": {},
   "outputs": [],
   "source": [
    "reg = LinearRegression()\n",
    "reg.fit(X_train, y_train)\n",
    "y_pred = reg.predict(X_test)"
   ]
  },
  {
   "cell_type": "code",
   "execution_count": null,
   "metadata": {},
   "outputs": [],
   "source": [
    "y_test_plot = y_test.copy()\n",
    "y_test_plot = pd.DataFrame(y_test_plot)\n",
    "y_test_plot['y_pred'] = y_pred.tolist()\n",
    "y_test_plot.plot.line(figsize=(15,2));\n",
    "plt.title('Linear Regression Prediction');"
   ]
  },
  {
   "cell_type": "code",
   "execution_count": null,
   "metadata": {},
   "outputs": [],
   "source": [
    "print('RMSE for Linear Regression: ', \"%.3f\" % mean_squared_error(y_pred, y_test)**(1/2))"
   ]
  },
  {
   "cell_type": "markdown",
   "metadata": {},
   "source": [
    "### Random Forrest"
   ]
  },
  {
   "cell_type": "code",
   "execution_count": null,
   "metadata": {},
   "outputs": [],
   "source": [
    "rf = RandomForestRegressor()\n",
    "rf.fit(X_train, y_train)\n",
    "y_pred = rf.predict(X_test)"
   ]
  },
  {
   "cell_type": "code",
   "execution_count": null,
   "metadata": {},
   "outputs": [],
   "source": [
    "y_test_plot = pd.DataFrame(y_test_plot)\n",
    "y_test_plot['y_pred'] = y_pred.tolist()\n",
    "y_test_plot.plot.line(figsize=(15,2));\n",
    "plt.title('Random Forest Prediction');"
   ]
  },
  {
   "cell_type": "code",
   "execution_count": null,
   "metadata": {},
   "outputs": [],
   "source": [
    "print('RMSE for Random Forest: ', \"%.3f\" % mean_squared_error(y_test, y_pred)**(1/2))"
   ]
  },
  {
   "cell_type": "markdown",
   "metadata": {},
   "source": [
    "## Convert a Time Series to a Supervised Learning Problem: Sliding Window"
   ]
  },
  {
   "cell_type": "markdown",
   "metadata": {},
   "source": [
    "Conclusively, random forest show a lower root mean square error (RMSE) than linear regression algorithm. It can better predict the underlying machine status. However, those example are not predicitions in advance. As both algorothms predict the machine fallout within a minute, which is to short\n",
    "to take action or do a maintanace precedure. Therefore, a shift in the window function is necessary."
   ]
  },
  {
   "attachments": {},
   "cell_type": "markdown",
   "metadata": {},
   "source": [
    "Shifting the  features X steps to be able to see the failure of the machine X minutes in advance."
   ]
  },
  {
   "attachments": {},
   "cell_type": "markdown",
   "metadata": {},
   "source": [
    "You can play around with the time shift. Positive values push the time trace more into the future, while negative values pull the time back.\n",
    "1440 minutes corresponds to a single day. The amount of time before the machine stops working."
   ]
  },
  {
   "cell_type": "code",
   "execution_count": null,
   "metadata": {},
   "outputs": [],
   "source": [
    "for i in df.columns:\n",
    "    if i == 'timestamp':\n",
    "        continue\n",
    "    else:\n",
    "        for t in [180, 1440, 2880, 5760]: \n",
    "            df[f'{t}-{i}'] = df[i].shift(t)"
   ]
  },
  {
   "attachments": {},
   "cell_type": "markdown",
   "metadata": {},
   "source": [
    "The next plot show the amount of Nans for each column"
   ]
  },
  {
   "cell_type": "code",
   "execution_count": null,
   "metadata": {},
   "outputs": [],
   "source": [
    "df.isna().sum().plot(kind='bar', figsize = (12, 1));\n",
    "plt.title('Number of NaNs in a Column');"
   ]
  },
  {
   "attachments": {},
   "cell_type": "markdown",
   "metadata": {},
   "source": [
    "As visible in the upcoming slide, Nans are not present any more"
   ]
  },
  {
   "cell_type": "code",
   "execution_count": null,
   "metadata": {},
   "outputs": [],
   "source": [
    "df.isna().sum().plot(kind='bar', figsize = (12, 1));\n",
    "plt.title('Number of NaNs in a Column');"
   ]
  },
  {
   "cell_type": "code",
   "execution_count": null,
   "metadata": {},
   "outputs": [],
   "source": [
    "df.index.freq = 'min' # df.index gets the frequency of the time series. It is needed for future steps.\n",
    "df = df.backfill() # somehow fillna('backfill') produced columns with objects.')\n",
    "df.dropna(inplace = True) # those rows which contain NaNs due to the shift-method are now removed"
   ]
  },
  {
   "cell_type": "code",
   "execution_count": null,
   "metadata": {},
   "outputs": [],
   "source": [
    "df_180 = pd.concat([df[df.columns[50::4]], df[df.columns[1:48:1]]], axis = 1)\n",
    "df_1440 = pd.concat([df[df.columns[51::4]], df[df.columns[1:48:1]]], axis= 1)\n",
    "df_2880 = pd.concat([df[df.columns[52::4]], df[df.columns[1:48:1]]], axis =1)\n",
    "df_5760 = pd.concat([df[df.columns[53::4]], df[df.columns[1:48:1]]], axis = 1)"
   ]
  },
  {
   "attachments": {},
   "cell_type": "markdown",
   "metadata": {},
   "source": [
    "### 180 Minutes in Advance Prediction"
   ]
  },
  {
   "cell_type": "code",
   "execution_count": null,
   "metadata": {},
   "outputs": [],
   "source": [
    "number = 180\n",
    "df_number = df_180\n",
    "# train/test split time series. The dataset is split roughly 50:50 for training and test\n",
    "train_df = df_number.loc[df.index < \"2018-06-09 10:40:00\"]\n",
    "test_df = df_number.loc[df.index >= \"2018-06-09 10:40:00\"]\n",
    "\n",
    "# X_train = train_df.drop(['machine_status', 'Operation'], axis = 1)\n",
    "X_train = train_df.drop([f'{number}-machine_status', f'{number}-Operation'], axis = 1)\n",
    "y_train = train_df[f'{number}-Operation']\n",
    "\n",
    "# X_test = test_df.drop(['machine_status', 'Operation'], axis = 1)\n",
    "X_test = test_df.drop([f'{number}-machine_status', f'{number}-Operation'], axis = 1)\n",
    "X_test_plot = test_df.drop([f'{number}-machine_status'], axis = 1) # this is needed for the upcoming plot\n",
    "y_test = test_df[f'{number}-Operation']"
   ]
  },
  {
   "cell_type": "code",
   "execution_count": null,
   "metadata": {},
   "outputs": [],
   "source": [
    "# Time when the machine status is broken\n",
    "X_test_plot[X_test_plot['180-Operation'] == 0].index.tolist()"
   ]
  },
  {
   "cell_type": "code",
   "execution_count": null,
   "metadata": {},
   "outputs": [],
   "source": [
    "# Linear Regression \n",
    "reg = LinearRegression()\n",
    "reg.fit(X_train, y_train)\n",
    "y_pred = reg.predict(X_test)"
   ]
  },
  {
   "cell_type": "code",
   "execution_count": null,
   "metadata": {},
   "outputs": [],
   "source": [
    "y_test_plot = y_test.copy()\n",
    "y_test_plot = pd.DataFrame(y_test_plot)\n",
    "y_test_plot['y_pred'] = y_pred.tolist()\n",
    "y_test_plot.plot.line(figsize=(15,2));\n",
    "plt.title(f'Linear Regression Prediction {number} Minutes in Advance');"
   ]
  },
  {
   "cell_type": "code",
   "execution_count": null,
   "metadata": {},
   "outputs": [],
   "source": [
    "print('RMSE for Linear Regression: ', \"%.3f\" % mean_squared_error(y_pred, y_test)**(1/2))"
   ]
  },
  {
   "cell_type": "code",
   "execution_count": null,
   "metadata": {},
   "outputs": [],
   "source": [
    "# Random Forest\n",
    "rf = RandomForestRegressor()\n",
    "rf.fit(X_train, y_train)\n",
    "y_pred = rf.predict(X_test)"
   ]
  },
  {
   "cell_type": "code",
   "execution_count": null,
   "metadata": {},
   "outputs": [],
   "source": [
    "y_test_plot = y_test.copy()\n",
    "y_test_plot = pd.DataFrame(y_test_plot)\n",
    "y_test_plot['y_pred'] = y_pred.tolist()\n",
    "y_test_plot.plot.line(figsize=(15,2));\n",
    "plt.title(f'Random Forest Prediction {number} Minutes in Advance');"
   ]
  },
  {
   "cell_type": "code",
   "execution_count": null,
   "metadata": {},
   "outputs": [],
   "source": [
    "print('RMSE for Random Forest: ', \"%.3f\" % mean_squared_error(y_pred, y_test)**(1/2))"
   ]
  },
  {
   "attachments": {},
   "cell_type": "markdown",
   "metadata": {},
   "source": [
    "### 1440 Minutes in Advance Prediction"
   ]
  },
  {
   "cell_type": "code",
   "execution_count": null,
   "metadata": {},
   "outputs": [],
   "source": [
    "number = 1440\n",
    "df_number = df_1440\n",
    "# train/test split time series. The dataset is split roughly 50:50 for training and test\n",
    "train_df = df_number.loc[df.index < \"2018-06-09 10:40:00\"]\n",
    "test_df = df_number.loc[df.index >= \"2018-06-09 10:40:00\"]\n",
    "\n",
    "# X_train = train_df.drop(['machine_status', 'Operation'], axis = 1)\n",
    "X_train = train_df.drop([f'{number}-machine_status', f'{number}-Operation'], axis = 1)\n",
    "y_train = train_df[f'{number}-Operation']\n",
    "\n",
    "# X_test = test_df.drop(['machine_status', 'Operation'], axis = 1)\n",
    "X_test = test_df.drop([f'{number}-machine_status', f'{number}-Operation'], axis = 1)\n",
    "X_test_plot = test_df.drop([f'{number}-machine_status'], axis = 1) # this is needed for the upcoming plot\n",
    "y_test = test_df[f'{number}-Operation']"
   ]
  },
  {
   "cell_type": "code",
   "execution_count": null,
   "metadata": {},
   "outputs": [],
   "source": [
    "# Linear Regression \n",
    "reg = LinearRegression()\n",
    "reg.fit(X_train, y_train)\n",
    "y_pred = reg.predict(X_test)"
   ]
  },
  {
   "cell_type": "code",
   "execution_count": null,
   "metadata": {},
   "outputs": [],
   "source": [
    "y_test_plot = y_test.copy()\n",
    "y_test_plot = pd.DataFrame(y_test_plot)\n",
    "y_test_plot['y_pred'] = y_pred.tolist()\n",
    "y_test_plot.plot.line(figsize=(15,2));\n",
    "plt.title(f'Linear Regression Prediction {number} Minutes in Advance');"
   ]
  },
  {
   "cell_type": "code",
   "execution_count": null,
   "metadata": {},
   "outputs": [],
   "source": [
    "print('RMSE for Linear Regression: ', \"%.3f\" % mean_squared_error(y_pred, y_test)**(1/2))"
   ]
  },
  {
   "cell_type": "code",
   "execution_count": null,
   "metadata": {},
   "outputs": [],
   "source": [
    "# Random Forest\n",
    "rf = RandomForestRegressor()\n",
    "rf.fit(X_train, y_train)\n",
    "y_pred = rf.predict(X_test)"
   ]
  },
  {
   "cell_type": "code",
   "execution_count": null,
   "metadata": {},
   "outputs": [],
   "source": [
    "y_test_plot = y_test.copy()\n",
    "y_test_plot = pd.DataFrame(y_test_plot)\n",
    "y_test_plot['y_pred'] = y_pred.tolist()\n",
    "y_test_plot.plot.line(figsize=(15,2));\n",
    "plt.title(f'Random Forest Prediction {number} Minutes in Advance');"
   ]
  },
  {
   "cell_type": "code",
   "execution_count": null,
   "metadata": {},
   "outputs": [],
   "source": [
    "print('RMSE for Random Forest: ', \"%.3f\" % mean_squared_error(y_pred, y_test)**(1/2))"
   ]
  },
  {
   "attachments": {},
   "cell_type": "markdown",
   "metadata": {},
   "source": [
    "### 2880 Minutes in Advance Prediction"
   ]
  },
  {
   "cell_type": "code",
   "execution_count": null,
   "metadata": {},
   "outputs": [],
   "source": [
    "number = 2880\n",
    "df_number = df_2880\n",
    "# train/test split time series. The dataset is split roughly 50:50 for training and test\n",
    "train_df = df_number.loc[df.index < \"2018-06-09 10:40:00\"]\n",
    "test_df = df_number.loc[df.index >= \"2018-06-09 10:40:00\"]\n",
    "\n",
    "# X_train = train_df.drop(['machine_status', 'Operation'], axis = 1)\n",
    "X_train = train_df.drop([f'{number}-machine_status', f'{number}-Operation'], axis = 1)\n",
    "y_train = train_df[f'{number}-Operation']\n",
    "\n",
    "# X_test = test_df.drop(['machine_status', 'Operation'], axis = 1)\n",
    "X_test = test_df.drop([f'{number}-machine_status', f'{number}-Operation'], axis = 1)\n",
    "X_test_plot = test_df.drop([f'{number}-machine_status'], axis = 1) # this is needed for the upcoming plot\n",
    "y_test = test_df[f'{number}-Operation']"
   ]
  },
  {
   "cell_type": "code",
   "execution_count": null,
   "metadata": {},
   "outputs": [],
   "source": [
    "# Linear Regression \n",
    "reg = LinearRegression()\n",
    "reg.fit(X_train, y_train)\n",
    "y_pred = reg.predict(X_test)"
   ]
  },
  {
   "cell_type": "code",
   "execution_count": null,
   "metadata": {},
   "outputs": [],
   "source": [
    "y_test_plot = y_test.copy()\n",
    "y_test_plot = pd.DataFrame(y_test_plot)\n",
    "y_test_plot['y_pred'] = y_pred.tolist()\n",
    "y_test_plot.plot.line(figsize=(15,2));\n",
    "plt.title(f'Linear Regression Prediction {number} Minutes in Advance');"
   ]
  },
  {
   "cell_type": "code",
   "execution_count": null,
   "metadata": {},
   "outputs": [],
   "source": [
    "print('RMSE for Linear Regression: ', \"%.3f\" % mean_squared_error(y_pred, y_test)**(1/2))"
   ]
  },
  {
   "cell_type": "code",
   "execution_count": null,
   "metadata": {},
   "outputs": [],
   "source": [
    "# Random Forest\n",
    "rf = RandomForestRegressor()\n",
    "rf.fit(X_train, y_train)\n",
    "y_pred = rf.predict(X_test)"
   ]
  },
  {
   "cell_type": "code",
   "execution_count": null,
   "metadata": {},
   "outputs": [],
   "source": [
    "y_test_plot = y_test.copy()\n",
    "y_test_plot = pd.DataFrame(y_test_plot)\n",
    "y_test_plot['y_pred'] = y_pred.tolist()\n",
    "y_test_plot.plot.line(figsize=(15,2));\n",
    "plt.title(f'Random Forest Prediction {number} Minutes in Advance');"
   ]
  },
  {
   "cell_type": "code",
   "execution_count": null,
   "metadata": {},
   "outputs": [],
   "source": [
    "print('RMSE for Random Forest: ', \"%.3f\" % mean_squared_error(y_pred, y_test)**(1/2))"
   ]
  },
  {
   "attachments": {},
   "cell_type": "markdown",
   "metadata": {},
   "source": [
    "### 5760 Minutes in Advance Prediction"
   ]
  },
  {
   "cell_type": "code",
   "execution_count": null,
   "metadata": {},
   "outputs": [],
   "source": [
    "number = 5760\n",
    "df_number = df_5760\n",
    "# train/test split time series. The dataset is split roughly 50:50 for training and test\n",
    "train_df = df_number.loc[df.index < \"2018-06-09 10:40:00\"]\n",
    "test_df = df_number.loc[df.index >= \"2018-06-09 10:40:00\"]\n",
    "\n",
    "# X_train = train_df.drop(['machine_status', 'Operation'], axis = 1)\n",
    "X_train = train_df.drop([f'{number}-machine_status', f'{number}-Operation'], axis = 1)\n",
    "y_train = train_df[f'{number}-Operation']\n",
    "\n",
    "# X_test = test_df.drop(['machine_status', 'Operation'], axis = 1)\n",
    "X_test = test_df.drop([f'{number}-machine_status', f'{number}-Operation'], axis = 1)\n",
    "X_test_plot = test_df.drop([f'{number}-machine_status'], axis = 1) # this is needed for the upcoming plot\n",
    "y_test = test_df[f'{number}-Operation']"
   ]
  },
  {
   "cell_type": "code",
   "execution_count": null,
   "metadata": {},
   "outputs": [],
   "source": [
    "# Linear Regression \n",
    "reg = LinearRegression()\n",
    "reg.fit(X_train, y_train)\n",
    "y_pred = reg.predict(X_test)"
   ]
  },
  {
   "cell_type": "code",
   "execution_count": null,
   "metadata": {},
   "outputs": [],
   "source": [
    "y_test_plot = y_test.copy()\n",
    "y_test_plot = pd.DataFrame(y_test_plot)\n",
    "y_test_plot['y_pred'] = y_pred.tolist()\n",
    "y_test_plot.plot.line(figsize=(15,2));\n",
    "plt.title(f'Linear Regression Prediction {number} Minutes in Advance');"
   ]
  },
  {
   "cell_type": "code",
   "execution_count": null,
   "metadata": {},
   "outputs": [],
   "source": [
    "# Random Forest\n",
    "rf = RandomForestRegressor()\n",
    "rf.fit(X_train, y_train)\n",
    "y_pred = rf.predict(X_test)"
   ]
  },
  {
   "cell_type": "code",
   "execution_count": null,
   "metadata": {},
   "outputs": [],
   "source": [
    "y_test_plot = y_test.copy()\n",
    "y_test_plot = pd.DataFrame(y_test_plot)\n",
    "y_test_plot['y_pred'] = y_pred.tolist()\n",
    "y_test_plot.plot.line(figsize=(15,2));\n",
    "plt.title(f'Random Forest Prediction {number} Minutes in Advance');\n",
    "plt.savefig(f\"visualisations/{number}_in_advance.png\",dpi=300);"
   ]
  },
  {
   "cell_type": "code",
   "execution_count": null,
   "metadata": {},
   "outputs": [],
   "source": [
    "print('RMSE for Random Forest: ', \"%.3f\" % mean_squared_error(y_pred, y_test)**(1/2))\n"
   ]
  },
  {
   "attachments": {},
   "cell_type": "markdown",
   "metadata": {},
   "source": [
    "# Conclusion\n",
    "\n",
    "The notebook showed that a time series analysis with a supervides ML algorithm such as random forest is possible. Also this notebook investigated some time interval to predict machine failure in advance. As the result suggest pump failure can be predicted upto 4 days in advance. However, whether this result are solid proof remains uncertain. Both for 180 minutes and 4 days before machine failure the ML algorithm performed equally well, which is surprising. "
   ]
  }
 ],
 "metadata": {
  "kernelspec": {
   "display_name": "Python 3.9.8 ('.venv': venv)",
   "language": "python",
   "name": "python3"
  },
  "language_info": {
   "codemirror_mode": {
    "name": "ipython",
    "version": 3
   },
   "file_extension": ".py",
   "mimetype": "text/x-python",
   "name": "python",
   "nbconvert_exporter": "python",
   "pygments_lexer": "ipython3",
   "version": "3.9.8"
  },
  "vscode": {
   "interpreter": {
    "hash": "57b75de34d5c2c4f52c2bfcecae1a956c938c575d5bca2475d174baa9a76094d"
   }
  }
 },
 "nbformat": 4,
 "nbformat_minor": 2
}
