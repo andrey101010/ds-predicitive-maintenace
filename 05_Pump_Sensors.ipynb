{
 "cells": [
  {
   "cell_type": "markdown",
   "metadata": {},
   "source": [
    "The proposal for this project is to use machine learning to detect patterns in the sensor data so that the stackeholer will be better to exploit the forecasting and act accordingly by maintaining the unterlying system. \n",
    "\n",
    "This notebook is keept in such a way as I went trough it. However, weak results are not interfering with final outcomes and predictions.\n",
    "\n",
    "We are going to use the following python libraries and therefore the upcoming cell is going to install it for us."
   ]
  },
  {
   "cell_type": "code",
   "execution_count": null,
   "metadata": {
    "scrolled": true
   },
   "outputs": [],
   "source": [
    "import numpy as np \n",
    "import pandas as pd\n",
    "import matplotlib.pyplot as plt\n",
    "import seaborn as sns\n",
    "from statsmodels.tsa.holtwinters import SimpleExpSmoothing\n",
    "\n",
    "from sklearn.preprocessing import LabelEncoder, MinMaxScaler\n",
    "from sklearn.linear_model import LinearRegression\n",
    "from sklearn.ensemble import RandomForestClassifier, RandomForestRegressor\n",
    "from sklearn.metrics import mean_squared_error\n",
    "\n",
    "from statsmodels.tsa.stattools import adfuller\n"
   ]
  },
  {
   "cell_type": "markdown",
   "metadata": {},
   "source": [
    "# Data Loading"
   ]
  },
  {
   "cell_type": "code",
   "execution_count": null,
   "metadata": {},
   "outputs": [],
   "source": [
    "# np.genfromtxt('sensor.csv', delimiter=',', dtype=None)\n",
    "df = pd.read_csv('sensor.csv')"
   ]
  },
  {
   "cell_type": "markdown",
   "metadata": {},
   "source": [
    "# Exploratory Data Analysis"
   ]
  },
  {
   "cell_type": "code",
   "execution_count": null,
   "metadata": {},
   "outputs": [],
   "source": [
    "df.info()"
   ]
  },
  {
   "cell_type": "markdown",
   "metadata": {},
   "source": [
    "There are some missing values. Some columns will be dropped as seen in the upcoming column. \n",
    "Those columns with only a few missing values will be 'backfilled' with the pandas method in the later stage of this notebook."
   ]
  },
  {
   "cell_type": "code",
   "execution_count": null,
   "metadata": {},
   "outputs": [],
   "source": [
    "df.isnull().sum().plot(kind='bar', figsize=(12,1));\n",
    "plt.title('Number of Missing Values in a Column');"
   ]
  },
  {
   "cell_type": "code",
   "execution_count": null,
   "metadata": {},
   "outputs": [],
   "source": [
    "df.drop(['Unnamed: 0','sensor_00','sensor_15','sensor_50','sensor_51'], axis=1, inplace=True)"
   ]
  },
  {
   "cell_type": "markdown",
   "metadata": {},
   "source": [
    "In the next step visual inspectation of each sensor record is made. "
   ]
  },
  {
   "cell_type": "code",
   "execution_count": null,
   "metadata": {},
   "outputs": [],
   "source": [
    "# Transforming mashine status from strings to integers \n",
    "conditions = [(df['machine_status'] =='NORMAL'), (df['machine_status'] =='BROKEN'), (df['machine_status'] =='RECOVERING')]\n",
    "choices = [1, 0, 0.5]\n",
    "df['Operation'] = np.select(conditions, choices, default=0)"
   ]
  },
  {
   "attachments": {},
   "cell_type": "markdown",
   "metadata": {},
   "source": [
    "We can see group by some sensors in terms of their behavior and the absolute numbers they display. All sensors show stationary behavior, which means that their values are not changing from the initial value in time. Non-stationary behaviour we be that the values are rising / or falling in time."
   ]
  },
  {
   "cell_type": "code",
   "execution_count": null,
   "metadata": {},
   "outputs": [],
   "source": [
    "# time consuming step!\n",
    "\n",
    "# for i in df.drop(['timestamp', 'machine_status', 'Operation'], axis = 1).dropna().T.to_numpy():\n",
    "#    result = adfuller(i)\n",
    "#    print(result[1])"
   ]
  },
  {
   "cell_type": "code",
   "execution_count": null,
   "metadata": {},
   "outputs": [],
   "source": [
    "# commented out because time expensive\n",
    "# df.set_index('timestamp').plot(subplots =True, sharex = True, figsize = (20,50));"
   ]
  },
  {
   "cell_type": "code",
   "execution_count": null,
   "metadata": {},
   "outputs": [],
   "source": [
    "# Statistics of the machine. It is a highly imbalanced data set\n",
    "df.machine_status.value_counts()"
   ]
  },
  {
   "cell_type": "code",
   "execution_count": null,
   "metadata": {},
   "outputs": [],
   "source": [
    "# Status of the machine. 1 = operational, 0.5 maintenance and 0 = broken\n",
    "df.set_index('timestamp').Operation.plot(figsize=(13,1));\n",
    "plt.ylabel('Machine Status');"
   ]
  },
  {
   "cell_type": "markdown",
   "metadata": {},
   "source": [
    "### Time Lag"
   ]
  },
  {
   "cell_type": "code",
   "execution_count": null,
   "metadata": {},
   "outputs": [],
   "source": [
    "# https://www.kaggle.com/code/ryanholbrook/time-series-as-features\n",
    "# With trend and seasonality, we trained models to fit curves to plots like those on the left in the figure above -- \n",
    "# the models were learning time dependence. The goal in this lesson is to train models to fit curves to plots like those on the right \n",
    "# we want them to learn serial dependence"
   ]
  },
  {
   "cell_type": "code",
   "execution_count": null,
   "metadata": {},
   "outputs": [],
   "source": [
    "df['Lag_1'] = df['sensor_01'].shift(1)\n",
    "#df = df.reindex(columns=['Hardcover', 'Lag_1'])"
   ]
  },
  {
   "cell_type": "code",
   "execution_count": null,
   "metadata": {},
   "outputs": [],
   "source": [
    "sns.regplot(x='Lag_1', y='sensor_01', data=df, ci=None, scatter_kws=dict(color='0.25'));"
   ]
  },
  {
   "cell_type": "code",
   "execution_count": null,
   "metadata": {},
   "outputs": [],
   "source": [
    "df['timestamp'] = pd.to_datetime(df.timestamp)"
   ]
  },
  {
   "cell_type": "code",
   "execution_count": null,
   "metadata": {},
   "outputs": [],
   "source": [
    "df = df.backfill() # somehow fillna('backfill') produced columns with objects.')\n",
    "# df.info()"
   ]
  },
  {
   "cell_type": "code",
   "execution_count": null,
   "metadata": {},
   "outputs": [],
   "source": [
    "m = 6000\n",
    "df.sensor_23.plot(figsize = (12, 2))\n",
    "df.rolling(window=m).mean()['sensor_23'].plot()"
   ]
  },
  {
   "cell_type": "markdown",
   "metadata": {},
   "source": [
    "## Machnine Learning"
   ]
  },
  {
   "cell_type": "code",
   "execution_count": null,
   "metadata": {},
   "outputs": [],
   "source": [
    "# The absolute sensor values scatter a lot. For ML it is better to keep all values in a certain range eg. between 0 - 1.\n",
    "mms = MinMaxScaler()"
   ]
  },
  {
   "cell_type": "code",
   "execution_count": null,
   "metadata": {},
   "outputs": [],
   "source": [
    "to_convert = ['sensor_01', 'sensor_02', 'sensor_03', 'sensor_04',\n",
    "       'sensor_05', 'sensor_06', 'sensor_07', 'sensor_08', 'sensor_09',\n",
    "       'sensor_10', 'sensor_11', 'sensor_12', 'sensor_13', 'sensor_14',\n",
    "       'sensor_16', 'sensor_17', 'sensor_18', 'sensor_19', 'sensor_20',\n",
    "       'sensor_21', 'sensor_22', 'sensor_23', 'sensor_24', 'sensor_25',\n",
    "       'sensor_26', 'sensor_27', 'sensor_28', 'sensor_29', 'sensor_30',\n",
    "       'sensor_31', 'sensor_32', 'sensor_33', 'sensor_34', 'sensor_35',\n",
    "       'sensor_36', 'sensor_37', 'sensor_38', 'sensor_39', 'sensor_40',\n",
    "       'sensor_41', 'sensor_42', 'sensor_43', 'sensor_44', 'sensor_45',\n",
    "       'sensor_46', 'sensor_47', 'sensor_48', 'sensor_49']"
   ]
  },
  {
   "cell_type": "code",
   "execution_count": null,
   "metadata": {},
   "outputs": [],
   "source": [
    "df_scaled = pd.DataFrame(mms.fit_transform(df[to_convert]))"
   ]
  },
  {
   "cell_type": "code",
   "execution_count": null,
   "metadata": {},
   "outputs": [],
   "source": [
    "df = pd.concat([df, df_scaled], axis = 1).drop(to_convert, axis= 1)"
   ]
  },
  {
   "cell_type": "code",
   "execution_count": null,
   "metadata": {},
   "outputs": [],
   "source": [
    "df = df.backfill() # somehow fillna('backfill') produced columns with objects.')"
   ]
  },
  {
   "cell_type": "code",
   "execution_count": null,
   "metadata": {},
   "outputs": [],
   "source": [
    "df.isna().describe()"
   ]
  },
  {
   "cell_type": "code",
   "execution_count": null,
   "metadata": {},
   "outputs": [],
   "source": [
    "df.set_index('timestamp', inplace=True)\n",
    "df.index.freq = 'min' # df.index gets the frequency of the time series. It is needed for future steps."
   ]
  },
  {
   "cell_type": "code",
   "execution_count": null,
   "metadata": {},
   "outputs": [],
   "source": [
    "# train/test split time series\n",
    "train_df = df.loc[df.index < \"2018-06-09 10:40:00\"]\n",
    "test_df = df.loc[df.index >= \"2018-06-09 10:40:00\"]\n",
    "X_train = train_df.drop(['machine_status', 'Operation'], axis = 1)\n",
    "y_train = train_df.Operation\n",
    "X_test = test_df.drop(['machine_status', 'Operation'], axis = 1)\n",
    "y_test = test_df.Operation"
   ]
  },
  {
   "cell_type": "code",
   "execution_count": null,
   "metadata": {},
   "outputs": [],
   "source": [
    "# A good overview how the traces look now\n",
    "# train_df.plot(subplots = True, sharex = True, figsize= (12,30));\n",
    "# X_train.info()"
   ]
  },
  {
   "cell_type": "markdown",
   "metadata": {},
   "source": [
    "### Linear Regression"
   ]
  },
  {
   "cell_type": "code",
   "execution_count": null,
   "metadata": {},
   "outputs": [],
   "source": [
    "reg = LinearRegression()\n",
    "reg.fit(X_train, y_train)\n",
    "y_pred = reg.predict(X_test)"
   ]
  },
  {
   "cell_type": "code",
   "execution_count": null,
   "metadata": {},
   "outputs": [],
   "source": [
    "y_test_plot = y_test.copy()\n",
    "y_test_plot = pd.DataFrame(y_test_plot)\n",
    "y_test_plot['y_pred'] = y_pred.tolist()\n",
    "y_test_plot.plot.line(figsize=(15,2));\n",
    "plt.title('Linear Regression Prediction');"
   ]
  },
  {
   "cell_type": "code",
   "execution_count": null,
   "metadata": {},
   "outputs": [],
   "source": [
    "print('RMSE for Linear Regression: ', \"%.3f\" % mean_squared_error(y_pred, y_test)**(1/2))"
   ]
  },
  {
   "cell_type": "markdown",
   "metadata": {},
   "source": [
    "### Random Forrest"
   ]
  },
  {
   "cell_type": "markdown",
   "metadata": {},
   "source": [
    "too long to run therfore commented out"
   ]
  },
  {
   "cell_type": "code",
   "execution_count": null,
   "metadata": {},
   "outputs": [],
   "source": [
    "# rf = RandomForestRegressor()\n",
    "# rf.fit(X_train, y_train)\n",
    "# y_pred = rf.predict(X_test)"
   ]
  },
  {
   "cell_type": "code",
   "execution_count": null,
   "metadata": {},
   "outputs": [],
   "source": [
    "# y_test_plot = pd.DataFrame(y_test_plot)\n",
    "# y_test_plot['y_pred'] = y_pred.tolist()\n",
    "# y_test_plot.plot.line(figsize=(15,2));\n",
    "# plt.title('Random Forest Prediction');"
   ]
  },
  {
   "cell_type": "code",
   "execution_count": null,
   "metadata": {},
   "outputs": [],
   "source": [
    "# print('RMSE for Random Forest: ', \"%.3f\" % mean_squared_error(y_test.Operation, y_pred)**(1/2))"
   ]
  },
  {
   "cell_type": "markdown",
   "metadata": {},
   "source": [
    "## Convert a Time Series to a Supervised Learning Problem: Sliding Window"
   ]
  },
  {
   "cell_type": "markdown",
   "metadata": {},
   "source": [
    "Conclusively, random forest show a lower root mean square error (RMSE) than linear regression algorithm. It can better predict the underlying machine status. However, those example are not predicitions in advance. As both algorothms predict the machine fallout within a minute, which is to short\n",
    "to take action or do a maintanace precedure. Therefore, a shift in the window function is necessary."
   ]
  },
  {
   "cell_type": "markdown",
   "metadata": {},
   "source": [
    "Shifting the  features 60 steps to be able to see the failure of the machine 60 minutes in advance."
   ]
  },
  {
   "attachments": {},
   "cell_type": "markdown",
   "metadata": {},
   "source": [
    "You can play around with the time shift. Positive values push the time trace more into the future, while negative values pull the time back.\n",
    "1440 minutes corresponds to a single day. The amount of time before the machine stops working."
   ]
  },
  {
   "cell_type": "code",
   "execution_count": null,
   "metadata": {},
   "outputs": [],
   "source": [
    "for i in df.columns:\n",
    "    if i == 'timestamp':\n",
    "        continue\n",
    "    else:\n",
    "        for t in [180, 1440, 2880, 5760]: \n",
    "            df[f'{t}-{i}'] = df[i].shift(t)"
   ]
  },
  {
   "attachments": {},
   "cell_type": "markdown",
   "metadata": {},
   "source": [
    "The next plot show the amount of Nans for each column"
   ]
  },
  {
   "cell_type": "code",
   "execution_count": null,
   "metadata": {},
   "outputs": [],
   "source": [
    "df.isna().sum().plot(kind='bar', figsize = (12, 1));"
   ]
  },
  {
   "cell_type": "code",
   "execution_count": null,
   "metadata": {},
   "outputs": [],
   "source": [
    "df = df.backfill() # somehow fillna('backfill') produced columns with objects.')\n",
    "df.dropna(inplace = True) # those rows which contain NaNs due to the shift-method are now removed"
   ]
  },
  {
   "attachments": {},
   "cell_type": "markdown",
   "metadata": {},
   "source": [
    "As visible in the upcoming slide, Nans are not present any more"
   ]
  },
  {
   "cell_type": "code",
   "execution_count": null,
   "metadata": {},
   "outputs": [],
   "source": [
    "df.isna().sum().plot(kind='bar', figsize = (12, 1));"
   ]
  },
  {
   "cell_type": "code",
   "execution_count": null,
   "metadata": {},
   "outputs": [],
   "source": [
    "df.set_index('timestamp', inplace =True)\n",
    "df.index.freq = 'min' # df.index gets the frequency of the time series. It is needed for future steps."
   ]
  },
  {
   "cell_type": "code",
   "execution_count": null,
   "metadata": {},
   "outputs": [],
   "source": [
    "df_180 = df[df.columns[50::4]]\n",
    "df_1440 = df[df.columns[51::4]]\n",
    "df_2880 = df[df.columns[52::4]]\n",
    "df_5760 = df[df.columns[53::4]]"
   ]
  },
  {
   "attachments": {},
   "cell_type": "markdown",
   "metadata": {},
   "source": [
    "### 180 Minutes in Advance Prediction"
   ]
  },
  {
   "cell_type": "code",
   "execution_count": null,
   "metadata": {},
   "outputs": [],
   "source": [
    "number = 180\n",
    "df_number = df_180\n",
    "# train/test split time series. The dataset is split roughly 50:50 for training and test\n",
    "train_df = df_number.loc[df.index < \"2018-06-09 10:40:00\"]\n",
    "test_df = df_number.loc[df.index >= \"2018-06-09 10:40:00\"]\n",
    "\n",
    "# X_train = train_df.drop(['machine_status', 'Operation'], axis = 1)\n",
    "X_train = train_df.drop([f'{number}-machine_status', f'{number}-Operation'], axis = 1)\n",
    "y_train = train_df[f'{number}-Operation']\n",
    "\n",
    "# X_test = test_df.drop(['machine_status', 'Operation'], axis = 1)\n",
    "X_test = test_df.drop([f'{number}-machine_status', f'{number}-Operation'], axis = 1)\n",
    "X_test_plot = test_df.drop([f'{number}-machine_status'], axis = 1) # this is needed for the upcoming plot\n",
    "y_test = test_df[f'{number}-Operation']"
   ]
  },
  {
   "cell_type": "code",
   "execution_count": null,
   "metadata": {},
   "outputs": [],
   "source": [
    "# Time when the machine status is broken\n",
    "X_test_plot[X_test_plot['180-Operation'] == 0].index.tolist()"
   ]
  },
  {
   "cell_type": "code",
   "execution_count": null,
   "metadata": {},
   "outputs": [],
   "source": [
    "# Linear Regression \n",
    "reg = LinearRegression()\n",
    "reg.fit(X_train, y_train)\n",
    "y_pred = reg.predict(X_test)"
   ]
  },
  {
   "cell_type": "code",
   "execution_count": null,
   "metadata": {},
   "outputs": [],
   "source": [
    "y_test_plot = y_test.copy()\n",
    "y_test_plot = pd.DataFrame(y_test_plot)\n",
    "y_test_plot['y_pred'] = y_pred.tolist()\n",
    "y_test_plot.plot.line(figsize=(15,2));\n",
    "plt.title(f'Linear Regression Prediction {number} Minutes in Advance');"
   ]
  },
  {
   "cell_type": "code",
   "execution_count": null,
   "metadata": {},
   "outputs": [],
   "source": [
    "print('RMSE for Linear Regression: ', \"%.3f\" % mean_squared_error(y_pred, y_test)**(1/2))"
   ]
  },
  {
   "cell_type": "code",
   "execution_count": null,
   "metadata": {},
   "outputs": [],
   "source": [
    "# Random Forest\n",
    "rf = RandomForestRegressor()\n",
    "rf.fit(X_train, y_train)\n",
    "y_pred = rf.predict(X_test)"
   ]
  },
  {
   "cell_type": "code",
   "execution_count": null,
   "metadata": {},
   "outputs": [],
   "source": [
    "y_test_plot = y_test.copy()\n",
    "y_test_plot = pd.DataFrame(y_test_plot)\n",
    "y_test_plot['y_pred'] = y_pred.tolist()\n",
    "y_test_plot.plot.line(figsize=(15,2));\n",
    "plt.title('Random Forest Prediction 180 Minutes in Advance');"
   ]
  },
  {
   "attachments": {},
   "cell_type": "markdown",
   "metadata": {},
   "source": [
    "### 1440 Minutes in Advance Prediction"
   ]
  },
  {
   "cell_type": "code",
   "execution_count": null,
   "metadata": {},
   "outputs": [],
   "source": [
    "number = 1440\n",
    "df_number = df_1440\n",
    "# train/test split time series. The dataset is split roughly 50:50 for training and test\n",
    "train_df = df_number.loc[df.index < \"2018-06-09 10:40:00\"]\n",
    "test_df = df_number.loc[df.index >= \"2018-06-09 10:40:00\"]\n",
    "\n",
    "# X_train = train_df.drop(['machine_status', 'Operation'], axis = 1)\n",
    "X_train = train_df.drop([f'{number}-machine_status', f'{number}-Operation'], axis = 1)\n",
    "y_train = train_df[f'{number}-Operation']\n",
    "\n",
    "# X_test = test_df.drop(['machine_status', 'Operation'], axis = 1)\n",
    "X_test = test_df.drop([f'{number}-machine_status', f'{number}-Operation'], axis = 1)\n",
    "X_test_plot = test_df.drop([f'{number}-machine_status'], axis = 1) # this is needed for the upcoming plot\n",
    "y_test = test_df[f'{number}-Operation']"
   ]
  },
  {
   "cell_type": "code",
   "execution_count": null,
   "metadata": {},
   "outputs": [],
   "source": [
    "# Linear Regression \n",
    "reg = LinearRegression()\n",
    "reg.fit(X_train, y_train)\n",
    "y_pred = reg.predict(X_test)"
   ]
  },
  {
   "cell_type": "code",
   "execution_count": null,
   "metadata": {},
   "outputs": [],
   "source": [
    "y_test_plot = y_test.copy()\n",
    "y_test_plot = pd.DataFrame(y_test_plot)\n",
    "y_test_plot['y_pred'] = y_pred.tolist()\n",
    "y_test_plot.plot.line(figsize=(15,2));\n",
    "plt.title(f'Linear Regression Prediction {number} Minutes in Advance');"
   ]
  },
  {
   "cell_type": "code",
   "execution_count": null,
   "metadata": {},
   "outputs": [],
   "source": [
    "print('RMSE for Linear Regression: ', \"%.3f\" % mean_squared_error(y_pred, y_test)**(1/2))"
   ]
  },
  {
   "cell_type": "code",
   "execution_count": null,
   "metadata": {},
   "outputs": [],
   "source": [
    "# Random Forest\n",
    "rf = RandomForestRegressor()\n",
    "rf.fit(X_train, y_train)\n",
    "y_pred = rf.predict(X_test)"
   ]
  },
  {
   "cell_type": "code",
   "execution_count": null,
   "metadata": {},
   "outputs": [],
   "source": [
    "y_test_plot = y_test.copy()\n",
    "y_test_plot = pd.DataFrame(y_test_plot)\n",
    "y_test_plot['y_pred'] = y_pred.tolist()\n",
    "y_test_plot.plot.line(figsize=(15,2));\n",
    "plt.title(f'Random Forest Prediction {number} Minutes in Advance');"
   ]
  },
  {
   "cell_type": "code",
   "execution_count": null,
   "metadata": {},
   "outputs": [],
   "source": [
    "print('RMSE for Random Forest: ', \"%.3f\" % mean_squared_error(y_pred, y_test)**(1/2))"
   ]
  },
  {
   "attachments": {},
   "cell_type": "markdown",
   "metadata": {},
   "source": [
    "### 2880 Minutes in Advance Prediction"
   ]
  },
  {
   "cell_type": "code",
   "execution_count": null,
   "metadata": {},
   "outputs": [],
   "source": [
    "number = 2880\n",
    "df_number = df_2880\n",
    "# train/test split time series. The dataset is split roughly 50:50 for training and test\n",
    "train_df = df_number.loc[df.index < \"2018-06-09 10:40:00\"]\n",
    "test_df = df_number.loc[df.index >= \"2018-06-09 10:40:00\"]\n",
    "\n",
    "# X_train = train_df.drop(['machine_status', 'Operation'], axis = 1)\n",
    "X_train = train_df.drop([f'{number}-machine_status', f'{number}-Operation'], axis = 1)\n",
    "y_train = train_df[f'{number}-Operation']\n",
    "\n",
    "# X_test = test_df.drop(['machine_status', 'Operation'], axis = 1)\n",
    "X_test = test_df.drop([f'{number}-machine_status', f'{number}-Operation'], axis = 1)\n",
    "X_test_plot = test_df.drop([f'{number}-machine_status'], axis = 1) # this is needed for the upcoming plot\n",
    "y_test = test_df[f'{number}-Operation']"
   ]
  },
  {
   "cell_type": "code",
   "execution_count": null,
   "metadata": {},
   "outputs": [],
   "source": [
    "# Linear Regression \n",
    "reg = LinearRegression()\n",
    "reg.fit(X_train, y_train)\n",
    "y_pred = reg.predict(X_test)"
   ]
  },
  {
   "cell_type": "code",
   "execution_count": null,
   "metadata": {},
   "outputs": [],
   "source": [
    "y_test_plot = y_test.copy()\n",
    "y_test_plot = pd.DataFrame(y_test_plot)\n",
    "y_test_plot['y_pred'] = y_pred.tolist()\n",
    "y_test_plot.plot.line(figsize=(15,2));\n",
    "plt.title(f'Linear Regression Prediction {number} Minutes in Advance');"
   ]
  },
  {
   "cell_type": "code",
   "execution_count": null,
   "metadata": {},
   "outputs": [],
   "source": [
    "print('RMSE for Linear Regression: ', \"%.3f\" % mean_squared_error(y_pred, y_test)**(1/2))"
   ]
  },
  {
   "cell_type": "code",
   "execution_count": null,
   "metadata": {},
   "outputs": [],
   "source": [
    "# Random Forest\n",
    "rf = RandomForestRegressor()\n",
    "rf.fit(X_train, y_train)\n",
    "y_pred = rf.predict(X_test)"
   ]
  },
  {
   "cell_type": "code",
   "execution_count": null,
   "metadata": {},
   "outputs": [],
   "source": [
    "y_test_plot = y_test.copy()\n",
    "y_test_plot = pd.DataFrame(y_test_plot)\n",
    "y_test_plot['y_pred'] = y_pred.tolist()\n",
    "y_test_plot.plot.line(figsize=(15,2));\n",
    "plt.title(f'Random Forest Prediction {number} Minutes in Advance');"
   ]
  },
  {
   "cell_type": "code",
   "execution_count": null,
   "metadata": {},
   "outputs": [],
   "source": [
    "print('RMSE for Random Forest: ', \"%.3f\" % mean_squared_error(y_pred, y_test)**(1/2))"
   ]
  },
  {
   "attachments": {},
   "cell_type": "markdown",
   "metadata": {},
   "source": [
    "### 5760 Minutes in Advance Prediction"
   ]
  },
  {
   "cell_type": "code",
   "execution_count": null,
   "metadata": {},
   "outputs": [],
   "source": [
    "number = 5760\n",
    "df_number = df_5760\n",
    "# train/test split time series. The dataset is split roughly 50:50 for training and test\n",
    "train_df = df_number.loc[df.index < \"2018-06-09 10:40:00\"]\n",
    "test_df = df_number.loc[df.index >= \"2018-06-09 10:40:00\"]\n",
    "\n",
    "# X_train = train_df.drop(['machine_status', 'Operation'], axis = 1)\n",
    "X_train = train_df.drop([f'{number}-machine_status', f'{number}-Operation'], axis = 1)\n",
    "y_train = train_df[f'{number}-Operation']\n",
    "\n",
    "# X_test = test_df.drop(['machine_status', 'Operation'], axis = 1)\n",
    "X_test = test_df.drop([f'{number}-machine_status', f'{number}-Operation'], axis = 1)\n",
    "X_test_plot = test_df.drop([f'{number}-machine_status'], axis = 1) # this is needed for the upcoming plot\n",
    "y_test = test_df[f'{number}-Operation']"
   ]
  },
  {
   "cell_type": "code",
   "execution_count": null,
   "metadata": {},
   "outputs": [],
   "source": [
    "# Linear Regression \n",
    "reg = LinearRegression()\n",
    "reg.fit(X_train, y_train)\n",
    "y_pred = reg.predict(X_test)"
   ]
  },
  {
   "cell_type": "code",
   "execution_count": null,
   "metadata": {},
   "outputs": [],
   "source": [
    "y_test_plot = y_test.copy()\n",
    "y_test_plot = pd.DataFrame(y_test_plot)\n",
    "y_test_plot['y_pred'] = y_pred.tolist()\n",
    "y_test_plot.plot.line(figsize=(15,2));\n",
    "plt.title(f'Linear Regression Prediction {number} Minutes in Advance');"
   ]
  },
  {
   "cell_type": "code",
   "execution_count": null,
   "metadata": {},
   "outputs": [],
   "source": [
    "y_test_plot = y_test.copy()\n",
    "y_test_plot = pd.DataFrame(y_test_plot)\n",
    "y_test_plot['y_pred'] = y_pred.tolist()\n",
    "y_test_plot.plot.line(figsize=(15,2));\n",
    "plt.title(f'Random Forest Prediction {number} Minutes in Advance');"
   ]
  },
  {
   "cell_type": "code",
   "execution_count": null,
   "metadata": {},
   "outputs": [],
   "source": [
    "print('RMSE for Random Forest: ', \"%.3f\" % mean_squared_error(y_pred, y_test)**(1/2))"
   ]
  }
 ],
 "metadata": {
  "kernelspec": {
   "display_name": "Python 3.9.8 ('.venv': venv)",
   "language": "python",
   "name": "python3"
  },
  "language_info": {
   "codemirror_mode": {
    "name": "ipython",
    "version": 3
   },
   "file_extension": ".py",
   "mimetype": "text/x-python",
   "name": "python",
   "nbconvert_exporter": "python",
   "pygments_lexer": "ipython3",
   "version": "3.9.8"
  },
  "vscode": {
   "interpreter": {
    "hash": "57b75de34d5c2c4f52c2bfcecae1a956c938c575d5bca2475d174baa9a76094d"
   }
  }
 },
 "nbformat": 4,
 "nbformat_minor": 2
}
