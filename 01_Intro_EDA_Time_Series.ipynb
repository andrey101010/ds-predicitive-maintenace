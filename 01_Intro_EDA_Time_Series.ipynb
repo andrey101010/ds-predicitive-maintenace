{
 "cells": [
  {
   "cell_type": "markdown",
   "metadata": {},
   "source": [
    "## Intro to EDA with Time Series \n",
    "\n",
    "> This notebook is a modified version of a notebook from the Berlin Time Series Meetup by Juan Orduz. If you want to dive deeper into time series we can highly reccomend to check out the repository of the meetup on [github](https://github.com/juanitorduz/btsa).\n",
    "\n",
    "Time series forcasting is another interesting aspect of Data Science. In this notebook we will have a look at some simple plots and methods you can apply when you start with a time series project. We will show on a simple example how to manipulate and plot time series data in python.\n",
    "\n",
    "#### At the end of this notebook you should:\n",
    " * know some helpful plots to start with your time series data\n",
    " * know how to decompose a time series and what the single components are"
   ]
  },
  {
   "cell_type": "markdown",
   "metadata": {},
   "source": [
    "## Setup\n",
    "\n",
    "All the manipulations and plots in this notebook can be created with standard libraries such as matplotlib, statsmodels etc. "
   ]
  },
  {
   "cell_type": "code",
   "execution_count": null,
   "metadata": {},
   "outputs": [],
   "source": [
    "# Main data packages. \n",
    "import numpy as np\n",
    "import pandas as pd\n",
    "\n",
    "# Data Viz. \n",
    "import statsmodels.formula.api as smf\n",
    "from statsmodels.tsa.seasonal import seasonal_decompose\n",
    "from scipy.ndimage import gaussian_filter\n",
    "from calendar import monthrange\n",
    "from calendar import month_name\n",
    "\n",
    "import matplotlib.pyplot as plt\n",
    "import matplotlib.patches as patches\n",
    "import seaborn as sns\n",
    "sns.set_style(\n",
    "    style='darkgrid', \n",
    "    rc={'axes.facecolor': 'white', 'grid.color': '.8'}\n",
    ")\n",
    "NF_ORANGE = '#ff5a36'\n",
    "NF_BLUE = '#163251'\n",
    "cmaps_hex = ['#193251','#FF5A36','#696969', '#7589A2','#FF5A36', '#DB6668']\n",
    "sns.set_palette(palette=cmaps_hex)\n",
    "sns_c = sns.color_palette(palette=cmaps_hex)\n",
    "%matplotlib inline\n",
    "from pandas.plotting import register_matplotlib_converters\n",
    "register_matplotlib_converters()\n",
    "\n",
    "plt.rcParams['figure.figsize'] = [12, 6]\n",
    "plt.rcParams['figure.dpi'] = 100"
   ]
  },
  {
   "cell_type": "code",
   "execution_count": null,
   "metadata": {},
   "outputs": [],
   "source": [
    "sns_c"
   ]
  },
  {
   "cell_type": "markdown",
   "metadata": {},
   "source": [
    "## Import Data \n",
    "\n",
    "The data for this notebook was downloaded from the [meteoblue website](https://www.meteoblue.com/en/weather/archive/export/basel_switzerland_2661604) and consits of weather data for the city of Basel from 2008 till 2020. "
   ]
  },
  {
   "cell_type": "code",
   "execution_count": null,
   "metadata": {},
   "outputs": [],
   "source": [
    "# Import data\n",
    "raw_df = pd.read_csv('data/basel_weather.csv')\n",
    "raw_df.head()"
   ]
  },
  {
   "cell_type": "code",
   "execution_count": null,
   "metadata": {},
   "outputs": [],
   "source": [
    "raw_df.info()"
   ]
  },
  {
   "cell_type": "markdown",
   "metadata": {},
   "source": [
    "## Format Data & Feature Engineering\n",
    "\n",
    "The dataset includes a timestamp. It might be interesting to have a look at additional features like for example `month`, `day`, `day of the year`, and `hour`."
   ]
  },
  {
   "cell_type": "code",
   "execution_count": null,
   "metadata": {},
   "outputs": [],
   "source": [
    "# Create working copy of dataframe\n",
    "data_df = raw_df.copy()\n",
    "\n",
    "# Rename columns in a more pythonic way\n",
    "data_df = data_df.rename(columns={\n",
    "    'Basel Temperature [2 m elevation corrected]': 'temperature', \n",
    "    'Basel Precipitation Total': 'precipitation', \n",
    "    'Basel Wind Speed [10 m]': 'wind_speed', \n",
    "    'Basel Wind Direction [10 m]': 'wind_direction'\n",
    "    }\n",
    ")\n",
    "\n",
    "# Convert timestamp to datetime object\n",
    "# Extract additional features from timestamp column\n",
    "data_df = data_df.assign(\n",
    "    timestamp = lambda x: pd.to_datetime(x['timestamp']), \n",
    "    date = lambda x: x['timestamp'].dt.date,\n",
    "    year = lambda x: x['timestamp'].dt.year,\n",
    "    month = lambda x: x['timestamp'].dt.month,\n",
    "    day = lambda x: x['timestamp'].dt.day,\n",
    "    dayofyear = lambda x: x['timestamp'].dt.dayofyear,\n",
    "    hour = lambda x: x['timestamp'].dt.hour,\n",
    ")\n",
    "\n",
    "data_df.head()"
   ]
  },
  {
   "cell_type": "markdown",
   "metadata": {},
   "source": [
    "## Visualize the Data\n",
    "\n",
    "Let us start by plotting the temperature data over time. We can either use the hourly development or aggregate the feature by day to get a less dense plot. "
   ]
  },
  {
   "cell_type": "code",
   "execution_count": null,
   "metadata": {},
   "outputs": [],
   "source": [
    "# Temperature hourly development over time \n",
    "fig, ax = plt.subplots()\n",
    "sns.lineplot(x='timestamp', y='temperature', data=data_df, ax=ax)\n",
    "ax.set(title='Basel - Temperature (Hourly)', ylabel=r'$^\\circ$C');\n",
    "\n",
    "fig.savefig(\"visualisations/Basel_Temp_hourly.png\",dpi=300)"
   ]
  },
  {
   "cell_type": "code",
   "execution_count": null,
   "metadata": {},
   "outputs": [],
   "source": [
    "# Aggregate temperature by day\n",
    "daily_data_df = data_df \\\n",
    "    .groupby(['date', 'year', 'month', 'day', 'dayofyear'], as_index=False)\\\n",
    "    .agg({'temperature': np.mean}) \\\n",
    "    .set_index('date')"
   ]
  },
  {
   "cell_type": "code",
   "execution_count": null,
   "metadata": {},
   "outputs": [],
   "source": [
    "# Plot temperature on daily basis \n",
    "fig, ax = plt.subplots()\n",
    "sns.lineplot(x='date', y='temperature', data=daily_data_df.reset_index(), ax=ax)\n",
    "ax.set(title='Basel - Temperature (Daily)', ylabel=r'$^\\circ$C');\n",
    "\n",
    "fig.savefig(\"visualisations/Basel_Temp_daily.png\",dpi=300)"
   ]
  },
  {
   "cell_type": "markdown",
   "metadata": {},
   "source": [
    "Both plots show a clear yearly seasonality but other effects like a trend for example are hard to recognize.\n",
    "\n",
    "We can focus on the seasonality and create a plot to show the yearly seasonality of temperature and its variation:"
   ]
  },
  {
   "cell_type": "code",
   "execution_count": null,
   "metadata": {},
   "outputs": [],
   "source": [
    "daily_data_df"
   ]
  },
  {
   "cell_type": "code",
   "execution_count": null,
   "metadata": {},
   "outputs": [],
   "source": [
    "# Plot yearly seasonality\n",
    "fig, ax = plt.subplots() \n",
    "\n",
    "pd.pivot_table(data=daily_data_df[['year', 'dayofyear', 'temperature']], index='dayofyear', columns='year') \\\n",
    "    ['temperature'] \\\n",
    "    .plot(cmap='viridis', alpha=0.5, ax=ax)\n",
    "\n",
    "ax.legend(title='year', loc='center left', bbox_to_anchor=(1, 0.5))\n",
    "ax.set(title='Basel - Yearly Temperature (Daily)', ylabel=r'$^\\circ$C');\n",
    "\n",
    "fig.savefig(\"visualisations/Basel_Yearly_Temperature.png\",dpi=300)"
   ]
  },
  {
   "cell_type": "markdown",
   "metadata": {},
   "source": [
    "We can also create a *polar plot* that depicts the seasonal change over the year in a circle. This way to visualize the change can be seen in the next plot. This is (sometimes) a nice way to depicture data that follow cyclical patterns (in this case: once around the circle represents one year). "
   ]
  },
  {
   "cell_type": "code",
   "execution_count": null,
   "metadata": {},
   "outputs": [],
   "source": [
    "# Polar plot for seasonality \n",
    "ax = plt.subplot(111, projection='polar')\n",
    "\n",
    "# Convert and plot data\n",
    "daily_data_df \\\n",
    "    .assign(day_of_year_cyclic = lambda x: x['dayofyear'].transform(lambda x: 2*np.pi*x/365.25)) \\\n",
    "    .pipe((sns.lineplot, 'data'), \n",
    "        x='day_of_year_cyclic', \n",
    "        y='temperature', \n",
    "        hue='month',\n",
    "        palette=sns.color_palette(\"husl\", 12),\n",
    "        ax=ax\n",
    "    )\n",
    "\n",
    "fancy_plot=True     #this is only to make the plot more beautiful. If you just want to see how the data looks without the adjustments to the plot set fancy_plot to False\n",
    "if(fancy_plot): \n",
    "    days_per_month=[0] + [monthrange(2021, i)[1] for i in range(1,12)]      #findout how many days each month has ()\n",
    "    month_start=np.cumsum(days_per_month) +1                                #add 1 to start at 0 instead of 0, take the cumsum to get ech months starting day\n",
    "    month_start_theta=[i *2 * np.pi / 365.25 for i in month_start]          #turn start day into an angle (in rad), use 365.25 as the average length of a year\n",
    "\n",
    "    month_label=[month_name[i] for i in range(1,13)]\n",
    "    month_label_long=[label+'\\n(Day ' +str(month_start[ind]) +')' for ind,label in enumerate(month_label)]\n",
    "\n",
    "    ax.set_title('Basel Temperature ', va='bottom',pad=22);\n",
    "    ax.spines.clear()\n",
    "    \n",
    "    ax.set_xlabel('')\n",
    "    ax.set_xticks(month_start_theta)\n",
    "    ax.set_xticklabels(month_label_long)\n",
    "    \n",
    "    ax.set_ylabel('')    \n",
    "    ax.set_ylim(-5,28)\n",
    "    ax.set_yticks(yt:=[0,5,10,15,20])\n",
    "    ax.set_yticklabels([str(t)+'°C' for t in yt], rotation = 45)\n",
    "\n",
    "    #Arrows / Annotations\n",
    "    style = \"Simple, tail_width=0.5, head_width=4, head_length=8\"\n",
    "    kw = dict(arrowstyle=style, color=\"dimgrey\")\n",
    "    ax.set_rlabel_position(1) \n",
    "    ax.text(13*2*np.pi/360,24,\"Days\",size=14,color='dimgrey',rotation=-80,va='center')\n",
    "    ax.text(-3*2*np.pi/360,16,\"Temperature\",size=14,color='dimgrey',rotation=-0,va='center')\n",
    "    a1 = patches.FancyArrowPatch((1*np.pi/180, -5), (1*np.pi/180, 26), **kw)\n",
    "\n",
    "    a2 = patches.FancyArrowPatch((1*np.pi/180, 24), (25*np.pi/180, 24),\n",
    "                                connectionstyle=f\"arc3,rad={0.105}\", **kw)\n",
    "    \n",
    "    ax.add_patch(a1)\n",
    "    ax.add_patch(a2)\n",
    "\n",
    "\n",
    "    ax.set_rorigin(-5)\n",
    "    ax.xaxis.set_tick_params(which='major',pad=10)\n",
    "\n",
    "    ax.legend(labels=month_label,ncol=2,facecolor='white',edgecolor='white',bbox_to_anchor=(1.1, 1.1), loc=1)\n",
    "\n",
    "    ax.figure.set_figwidth(12)\n",
    "    ax.figure.set_figheight(12)\n",
    "\n",
    "\n",
    "ax.figure.savefig(\"visualisations/Basel_Temp_polar.png\",dpi=300)"
   ]
  },
  {
   "cell_type": "markdown",
   "metadata": {},
   "source": [
    "## Smoothing"
   ]
  },
  {
   "cell_type": "markdown",
   "metadata": {},
   "source": [
    "Usually the first question of data analysis is \"Can we extract general, global pattern here?\"\n",
    "In time series with cyclic seasonal variation, this means that we want to smooth out this seasonality and let the global trend manifest itself.\n",
    "Most classical, first go-to way for this smoothing is to use [Moving Average](https://en.wikipedia.org/wiki/Moving_average). Please also refer to the Notebook on moving averages for a better understanding."
   ]
  },
  {
   "cell_type": "code",
   "execution_count": null,
   "metadata": {},
   "outputs": [],
   "source": [
    "# Plot moving average of different length (week, month, year)\n",
    "ma = [7, 30, 365]\n",
    "\n",
    "\n",
    "smooth_daily_data_df = daily_data_df \\\n",
    "    .reset_index() \\\n",
    "    .assign(date = lambda x: x['date'].transform(pd.to_datetime))\n",
    "\n",
    "# Smooth and plot\n",
    "fig, ax = plt.subplots(len(ma)+1, 1, figsize=(12, 9), constrained_layout=True, sharex=True)\n",
    "plt.suptitle('Basel Temperature (Daily) - Moving Average Smoothing', y=1.02);\n",
    "\n",
    "for i, m in enumerate(ma):\n",
    "    smooth_daily_data_df[f'temp_smooth_ma_{m}'] = smooth_daily_data_df['temperature'].rolling(window=m,center=True).mean() #compute the rolling mean\n",
    "\n",
    "    sns.lineplot(x='date', y='temperature', label='Temperature (Signal)', data=smooth_daily_data_df,  ax=ax[i])\n",
    "    sns.lineplot(x='date', y=f'temp_smooth_ma_{m}', label=f'Temperature smoothed:\\n ma = {m} days', data=smooth_daily_data_df, color=NF_ORANGE, ax=ax[i])\n",
    "\n",
    "    ax[i].legend(title='', loc='center left', bbox_to_anchor=(1, 0.5))\n",
    "    ax[i].set(title='', ylabel=r'$^\\circ$C');\n",
    "        \n",
    "sns.lineplot(x='date', y=f'temp_smooth_ma_{m}', label=f'Temperature smoothed:\\n ma = {m} days', data=smooth_daily_data_df, color=sns_c[1], ax=ax[i+1])\n",
    "ax[i+1].legend(title='', loc='center left', bbox_to_anchor=(1, 0.5))\n",
    "ax[i+1].set(title='', ylabel=r'$^\\circ$C');\n",
    "\n",
    "    \n",
    "fig.savefig(\"visualisations/Basel_Temp_MA_Smoothing.png\",dpi=300)"
   ]
  },
  {
   "cell_type": "markdown",
   "metadata": {},
   "source": [
    "## Time Series Decomposition\n",
    "\n",
    "We can go deeper and decompose time series data into the different ingredients to understand what the sources of variation are we see in the data.\n",
    "The method `seasonal_decompose` from `statsmodels.tsa.seasonal` can help us to decompose the daily data. This method is based on moving averages and returns the **trend**, **seasonality** and **residuals** of our timeseries.\n",
    "\n",
    "The stpes inside of this function is:\n",
    "* we first check for global trends using Moving average\n",
    "* we de-trend our data by substituding the trend values from the original data\n",
    "* then we estimate seasonal component by taking averages of each season's value - for example, the effect of January is the average of all de-trended January values in the data\n",
    "\n",
    "We can define which seasonality we want to extract, lets pick a period of 365 Days, because this seems to make the most sense."
   ]
  },
  {
   "cell_type": "code",
   "execution_count": null,
   "metadata": {},
   "outputs": [],
   "source": [
    "# We use the parameter `period` = 365 to extract the yearly seasonality. \n",
    "seas_decomp_yearly = seasonal_decompose(\n",
    "    x=daily_data_df['temperature'], \n",
    "    model='additive', \n",
    "    two_sided=True,\n",
    "    period= 365)\n",
    "\n",
    "# Plots:\n",
    "fig, ax = plt.subplots(4, 1, figsize=(12, 12), constrained_layout=True)\n",
    "\n",
    "#Plot Signal\n",
    "ax[0].set(title='Observed data (signal)', \n",
    "          ylabel=r'$^\\circ$C')\n",
    "seas_decomp_yearly.observed.plot(color=sns_c[0], \n",
    "                              linewidth=1,\n",
    "                              sharex=True,\n",
    "                              ax=ax[0])\n",
    "#Plot Trend\n",
    "ax[1].set(title='Trend (364 days moving average)', \n",
    "          ylabel=r'$^\\circ$C')\n",
    "seas_decomp_yearly.trend.plot(color=sns_c[1], \n",
    "                              linewidth=1,\n",
    "                              sharex=True,\n",
    "                              ax=ax[1])\n",
    "#Plot Seasonality\n",
    "ax[2].set(title='Seasonality', \n",
    "          ylabel=r'$^\\circ$C')\n",
    "seas_decomp_yearly.seasonal.plot(\n",
    "                                color=sns_c[2], \n",
    "                                linewidth=1,\n",
    "                                sharex=True,\n",
    "                                ax=ax[2])\n",
    "#Plot residual\n",
    "ax[3].set(title='Residual', \n",
    "          ylabel=r'$^\\circ$C');\n",
    "ax[3].scatter(\n",
    "    x=seas_decomp_yearly.resid.index,\n",
    "    y=seas_decomp_yearly.resid,\n",
    "    color=sns_c[3],\n",
    "    s=4)\n",
    "\n",
    "for i in range(4):\n",
    "    ax[i].set_xlim(pd.to_datetime(\"2008\"),pd.to_datetime(\"2021\"))\n",
    "    \n",
    "fig.savefig(\"visualisations/Basel_Temp_TSA_decomp.png\",dpi=300)"
   ]
  },
  {
   "cell_type": "markdown",
   "metadata": {},
   "source": [
    "As we can see, a simple call of ```seasonal_decompose()``` allows us to create a decomposition and access the trend, seasonality and residual!\n",
    "We try to produce a nice looking plot, which might make this process seem complicated. Hence, please have a look at the following cell which contains the results as well:"
   ]
  },
  {
   "cell_type": "code",
   "execution_count": null,
   "metadata": {},
   "outputs": [],
   "source": [
    "#Clutter-free version of the plot\n",
    "#1. Compute\n",
    "seas_decomp_yearly = seasonal_decompose(\n",
    "    x=daily_data_df['temperature'], \n",
    "    model='additive', \n",
    "    two_sided=True,\n",
    "    period= 365)\n",
    "\n",
    "#2. Plot\n",
    "fig= seas_decomp_yearly.plot()"
   ]
  },
  {
   "cell_type": "markdown",
   "metadata": {},
   "source": []
  }
 ],
 "metadata": {
  "kernelspec": {
   "display_name": "Python 3",
   "language": "python",
   "name": "python3"
  },
  "language_info": {
   "codemirror_mode": {
    "name": "ipython",
    "version": 3
   },
   "file_extension": ".py",
   "mimetype": "text/x-python",
   "name": "python",
   "nbconvert_exporter": "python",
   "pygments_lexer": "ipython3",
   "version": "3.9.5"
  }
 },
 "nbformat": 4,
 "nbformat_minor": 4
}
